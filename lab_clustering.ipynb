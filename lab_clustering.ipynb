{
 "cells": [
  {
   "cell_type": "markdown",
   "id": "7126fc38",
   "metadata": {},
   "source": [
    "# Spotify lab, vol. 2"
   ]
  },
  {
   "cell_type": "markdown",
   "id": "7cf784bf",
   "metadata": {},
   "source": [
    "Since the data harvesting is nicely plodding along in the other notebook, I'm starting a new one to get the clustering going. I save the data there to songs.csv, so I'll have to get that into here first. "
   ]
  },
  {
   "cell_type": "code",
   "execution_count": 1,
   "id": "680d1ca1",
   "metadata": {},
   "outputs": [],
   "source": [
    "# Imports\n",
    "import pandas as pd\n",
    "import numpy as np\n",
    "import matplotlib.pyplot as plt\n",
    "from time import sleep\n",
    "import requests\n",
    "import spotipy\n",
    "from spotipy.oauth2 import SpotifyClientCredentials\n",
    "from random import randint\n",
    "import matplotlib.pyplot as plt\n",
    "from sklearn import cluster\n",
    "from sklearn.preprocessing import StandardScaler\n",
    "from sklearn.metrics import silhouette_score\n",
    "import random"
   ]
  },
  {
   "cell_type": "code",
   "execution_count": 2,
   "id": "ccb91ca5",
   "metadata": {},
   "outputs": [],
   "source": [
    "songs = pd.read_csv(\"songs.csv\", sep = \"|\")"
   ]
  },
  {
   "cell_type": "code",
   "execution_count": 3,
   "id": "74102797",
   "metadata": {},
   "outputs": [
    {
     "data": {
      "text/html": [
       "<div>\n",
       "<style scoped>\n",
       "    .dataframe tbody tr th:only-of-type {\n",
       "        vertical-align: middle;\n",
       "    }\n",
       "\n",
       "    .dataframe tbody tr th {\n",
       "        vertical-align: top;\n",
       "    }\n",
       "\n",
       "    .dataframe thead th {\n",
       "        text-align: right;\n",
       "    }\n",
       "</style>\n",
       "<table border=\"1\" class=\"dataframe\">\n",
       "  <thead>\n",
       "    <tr style=\"text-align: right;\">\n",
       "      <th></th>\n",
       "      <th>Unnamed: 0</th>\n",
       "      <th>index</th>\n",
       "      <th>titles</th>\n",
       "      <th>artists</th>\n",
       "      <th>uri</th>\n",
       "      <th>index.1</th>\n",
       "      <th>danceability</th>\n",
       "      <th>energy</th>\n",
       "      <th>key</th>\n",
       "      <th>loudness</th>\n",
       "      <th>...</th>\n",
       "      <th>liveness</th>\n",
       "      <th>valence</th>\n",
       "      <th>tempo</th>\n",
       "      <th>type</th>\n",
       "      <th>id</th>\n",
       "      <th>uri.1</th>\n",
       "      <th>track_href</th>\n",
       "      <th>analysis_url</th>\n",
       "      <th>duration_ms</th>\n",
       "      <th>time_signature</th>\n",
       "    </tr>\n",
       "  </thead>\n",
       "  <tbody>\n",
       "    <tr>\n",
       "      <th>0</th>\n",
       "      <td>0</td>\n",
       "      <td>0</td>\n",
       "      <td>All Star</td>\n",
       "      <td>Smash Mouth</td>\n",
       "      <td>spotify:track:3cfOd4CMv2snFaKAnMdnvK</td>\n",
       "      <td>0</td>\n",
       "      <td>0.731</td>\n",
       "      <td>0.867</td>\n",
       "      <td>11.0</td>\n",
       "      <td>-5.881</td>\n",
       "      <td>...</td>\n",
       "      <td>0.0861</td>\n",
       "      <td>0.7760</td>\n",
       "      <td>104.019</td>\n",
       "      <td>audio_features</td>\n",
       "      <td>3cfOd4CMv2snFaKAnMdnvK</td>\n",
       "      <td>spotify:track:3cfOd4CMv2snFaKAnMdnvK</td>\n",
       "      <td>https://api.spotify.com/v1/tracks/3cfOd4CMv2sn...</td>\n",
       "      <td>https://api.spotify.com/v1/audio-analysis/3cfO...</td>\n",
       "      <td>200373.0</td>\n",
       "      <td>4.0</td>\n",
       "    </tr>\n",
       "    <tr>\n",
       "      <th>1</th>\n",
       "      <td>1</td>\n",
       "      <td>1</td>\n",
       "      <td>Sk8er Boi</td>\n",
       "      <td>Avril Lavigne</td>\n",
       "      <td>spotify:track:00Mb3DuaIH1kjrwOku9CGU</td>\n",
       "      <td>0</td>\n",
       "      <td>0.487</td>\n",
       "      <td>0.900</td>\n",
       "      <td>0.0</td>\n",
       "      <td>-4.417</td>\n",
       "      <td>...</td>\n",
       "      <td>0.3580</td>\n",
       "      <td>0.4840</td>\n",
       "      <td>149.937</td>\n",
       "      <td>audio_features</td>\n",
       "      <td>00Mb3DuaIH1kjrwOku9CGU</td>\n",
       "      <td>spotify:track:00Mb3DuaIH1kjrwOku9CGU</td>\n",
       "      <td>https://api.spotify.com/v1/tracks/00Mb3DuaIH1k...</td>\n",
       "      <td>https://api.spotify.com/v1/audio-analysis/00Mb...</td>\n",
       "      <td>204000.0</td>\n",
       "      <td>4.0</td>\n",
       "    </tr>\n",
       "    <tr>\n",
       "      <th>2</th>\n",
       "      <td>2</td>\n",
       "      <td>2</td>\n",
       "      <td>What's My Age Again?</td>\n",
       "      <td>blink-182</td>\n",
       "      <td>spotify:track:4LJhJ6DQS7NwE7UKtvcM52</td>\n",
       "      <td>0</td>\n",
       "      <td>0.391</td>\n",
       "      <td>0.951</td>\n",
       "      <td>6.0</td>\n",
       "      <td>-7.419</td>\n",
       "      <td>...</td>\n",
       "      <td>0.0878</td>\n",
       "      <td>0.4680</td>\n",
       "      <td>157.660</td>\n",
       "      <td>audio_features</td>\n",
       "      <td>4LJhJ6DQS7NwE7UKtvcM52</td>\n",
       "      <td>spotify:track:4LJhJ6DQS7NwE7UKtvcM52</td>\n",
       "      <td>https://api.spotify.com/v1/tracks/4LJhJ6DQS7Nw...</td>\n",
       "      <td>https://api.spotify.com/v1/audio-analysis/4LJh...</td>\n",
       "      <td>148360.0</td>\n",
       "      <td>4.0</td>\n",
       "    </tr>\n",
       "    <tr>\n",
       "      <th>3</th>\n",
       "      <td>3</td>\n",
       "      <td>3</td>\n",
       "      <td>A Thousand Miles</td>\n",
       "      <td>Vanessa Carlton</td>\n",
       "      <td>spotify:track:4w1lzcaoZ1IC2K5TwjalRP</td>\n",
       "      <td>0</td>\n",
       "      <td>0.560</td>\n",
       "      <td>0.825</td>\n",
       "      <td>11.0</td>\n",
       "      <td>-3.862</td>\n",
       "      <td>...</td>\n",
       "      <td>0.1610</td>\n",
       "      <td>0.2680</td>\n",
       "      <td>94.931</td>\n",
       "      <td>audio_features</td>\n",
       "      <td>4w1lzcaoZ1IC2K5TwjalRP</td>\n",
       "      <td>spotify:track:4w1lzcaoZ1IC2K5TwjalRP</td>\n",
       "      <td>https://api.spotify.com/v1/tracks/4w1lzcaoZ1IC...</td>\n",
       "      <td>https://api.spotify.com/v1/audio-analysis/4w1l...</td>\n",
       "      <td>237493.0</td>\n",
       "      <td>4.0</td>\n",
       "    </tr>\n",
       "    <tr>\n",
       "      <th>4</th>\n",
       "      <td>4</td>\n",
       "      <td>4</td>\n",
       "      <td>Welcome to the Black Parade</td>\n",
       "      <td>My Chemical Romance</td>\n",
       "      <td>spotify:track:5wQnmLuC1W7ATsArWACrgW</td>\n",
       "      <td>0</td>\n",
       "      <td>0.217</td>\n",
       "      <td>0.905</td>\n",
       "      <td>2.0</td>\n",
       "      <td>-4.103</td>\n",
       "      <td>...</td>\n",
       "      <td>0.2220</td>\n",
       "      <td>0.2360</td>\n",
       "      <td>96.950</td>\n",
       "      <td>audio_features</td>\n",
       "      <td>5wQnmLuC1W7ATsArWACrgW</td>\n",
       "      <td>spotify:track:5wQnmLuC1W7ATsArWACrgW</td>\n",
       "      <td>https://api.spotify.com/v1/tracks/5wQnmLuC1W7A...</td>\n",
       "      <td>https://api.spotify.com/v1/audio-analysis/5wQn...</td>\n",
       "      <td>311107.0</td>\n",
       "      <td>4.0</td>\n",
       "    </tr>\n",
       "    <tr>\n",
       "      <th>...</th>\n",
       "      <td>...</td>\n",
       "      <td>...</td>\n",
       "      <td>...</td>\n",
       "      <td>...</td>\n",
       "      <td>...</td>\n",
       "      <td>...</td>\n",
       "      <td>...</td>\n",
       "      <td>...</td>\n",
       "      <td>...</td>\n",
       "      <td>...</td>\n",
       "      <td>...</td>\n",
       "      <td>...</td>\n",
       "      <td>...</td>\n",
       "      <td>...</td>\n",
       "      <td>...</td>\n",
       "      <td>...</td>\n",
       "      <td>...</td>\n",
       "      <td>...</td>\n",
       "      <td>...</td>\n",
       "      <td>...</td>\n",
       "      <td>...</td>\n",
       "    </tr>\n",
       "    <tr>\n",
       "      <th>8335</th>\n",
       "      <td>8335</td>\n",
       "      <td>1671</td>\n",
       "      <td>The World's First Ever Monster Truck Front Flip</td>\n",
       "      <td>Arctic Monkeys</td>\n",
       "      <td>spotify:track:7dWSVDMwoJXMqnG21AehRG</td>\n",
       "      <td>0</td>\n",
       "      <td>0.602</td>\n",
       "      <td>0.601</td>\n",
       "      <td>10.0</td>\n",
       "      <td>-5.742</td>\n",
       "      <td>...</td>\n",
       "      <td>0.0735</td>\n",
       "      <td>0.5530</td>\n",
       "      <td>145.075</td>\n",
       "      <td>audio_features</td>\n",
       "      <td>7dWSVDMwoJXMqnG21AehRG</td>\n",
       "      <td>spotify:track:7dWSVDMwoJXMqnG21AehRG</td>\n",
       "      <td>https://api.spotify.com/v1/tracks/7dWSVDMwoJXM...</td>\n",
       "      <td>https://api.spotify.com/v1/audio-analysis/7dWS...</td>\n",
       "      <td>180013.0</td>\n",
       "      <td>4.0</td>\n",
       "    </tr>\n",
       "    <tr>\n",
       "      <th>8336</th>\n",
       "      <td>8336</td>\n",
       "      <td>1672</td>\n",
       "      <td>Body Paint</td>\n",
       "      <td>Arctic Monkeys</td>\n",
       "      <td>spotify:track:11jRCxY01k9jvCdUru0EeP</td>\n",
       "      <td>0</td>\n",
       "      <td>0.560</td>\n",
       "      <td>0.313</td>\n",
       "      <td>7.0</td>\n",
       "      <td>-11.653</td>\n",
       "      <td>...</td>\n",
       "      <td>0.0767</td>\n",
       "      <td>0.2540</td>\n",
       "      <td>144.745</td>\n",
       "      <td>audio_features</td>\n",
       "      <td>11jRCxY01k9jvCdUru0EeP</td>\n",
       "      <td>spotify:track:11jRCxY01k9jvCdUru0EeP</td>\n",
       "      <td>https://api.spotify.com/v1/tracks/11jRCxY01k9j...</td>\n",
       "      <td>https://api.spotify.com/v1/audio-analysis/11jR...</td>\n",
       "      <td>290584.0</td>\n",
       "      <td>4.0</td>\n",
       "    </tr>\n",
       "    <tr>\n",
       "      <th>8337</th>\n",
       "      <td>8337</td>\n",
       "      <td>1673</td>\n",
       "      <td>My Purple iPod Nano</td>\n",
       "      <td>jamesjamesjames</td>\n",
       "      <td>spotify:track:0Zp9bIm1BeIyFiYNAof3Sm</td>\n",
       "      <td>0</td>\n",
       "      <td>0.759</td>\n",
       "      <td>0.888</td>\n",
       "      <td>10.0</td>\n",
       "      <td>-10.005</td>\n",
       "      <td>...</td>\n",
       "      <td>0.1840</td>\n",
       "      <td>0.0583</td>\n",
       "      <td>132.966</td>\n",
       "      <td>audio_features</td>\n",
       "      <td>0Zp9bIm1BeIyFiYNAof3Sm</td>\n",
       "      <td>spotify:track:0Zp9bIm1BeIyFiYNAof3Sm</td>\n",
       "      <td>https://api.spotify.com/v1/tracks/0Zp9bIm1BeIy...</td>\n",
       "      <td>https://api.spotify.com/v1/audio-analysis/0Zp9...</td>\n",
       "      <td>412702.0</td>\n",
       "      <td>4.0</td>\n",
       "    </tr>\n",
       "    <tr>\n",
       "      <th>8338</th>\n",
       "      <td>8338</td>\n",
       "      <td>1674</td>\n",
       "      <td>Turn On The Lights again.. (feat. Future)</td>\n",
       "      <td>Fred again..</td>\n",
       "      <td>spotify:track:6gdDu39yYqPcaTgCwYEW8i</td>\n",
       "      <td>0</td>\n",
       "      <td>0.683</td>\n",
       "      <td>0.887</td>\n",
       "      <td>6.0</td>\n",
       "      <td>-4.944</td>\n",
       "      <td>...</td>\n",
       "      <td>0.3180</td>\n",
       "      <td>0.5510</td>\n",
       "      <td>132.007</td>\n",
       "      <td>audio_features</td>\n",
       "      <td>6gdDu39yYqPcaTgCwYEW8i</td>\n",
       "      <td>spotify:track:6gdDu39yYqPcaTgCwYEW8i</td>\n",
       "      <td>https://api.spotify.com/v1/tracks/6gdDu39yYqPc...</td>\n",
       "      <td>https://api.spotify.com/v1/audio-analysis/6gdD...</td>\n",
       "      <td>267947.0</td>\n",
       "      <td>4.0</td>\n",
       "    </tr>\n",
       "    <tr>\n",
       "      <th>8339</th>\n",
       "      <td>8339</td>\n",
       "      <td>1675</td>\n",
       "      <td>messy in heaven</td>\n",
       "      <td>venbee</td>\n",
       "      <td>spotify:track:5RobAV5ROH5KARimi7n3cO</td>\n",
       "      <td>0</td>\n",
       "      <td>0.620</td>\n",
       "      <td>0.837</td>\n",
       "      <td>8.0</td>\n",
       "      <td>-4.356</td>\n",
       "      <td>...</td>\n",
       "      <td>0.2420</td>\n",
       "      <td>0.4330</td>\n",
       "      <td>172.081</td>\n",
       "      <td>audio_features</td>\n",
       "      <td>5RobAV5ROH5KARimi7n3cO</td>\n",
       "      <td>spotify:track:5RobAV5ROH5KARimi7n3cO</td>\n",
       "      <td>https://api.spotify.com/v1/tracks/5RobAV5ROH5K...</td>\n",
       "      <td>https://api.spotify.com/v1/audio-analysis/5Rob...</td>\n",
       "      <td>170438.0</td>\n",
       "      <td>4.0</td>\n",
       "    </tr>\n",
       "  </tbody>\n",
       "</table>\n",
       "<p>8340 rows × 24 columns</p>\n",
       "</div>"
      ],
      "text/plain": [
       "      Unnamed: 0  index                                           titles  \\\n",
       "0              0      0                                         All Star   \n",
       "1              1      1                                        Sk8er Boi   \n",
       "2              2      2                             What's My Age Again?   \n",
       "3              3      3                                 A Thousand Miles   \n",
       "4              4      4                      Welcome to the Black Parade   \n",
       "...          ...    ...                                              ...   \n",
       "8335        8335   1671  The World's First Ever Monster Truck Front Flip   \n",
       "8336        8336   1672                                       Body Paint   \n",
       "8337        8337   1673                              My Purple iPod Nano   \n",
       "8338        8338   1674        Turn On The Lights again.. (feat. Future)   \n",
       "8339        8339   1675                                  messy in heaven   \n",
       "\n",
       "                  artists                                   uri  index.1  \\\n",
       "0             Smash Mouth  spotify:track:3cfOd4CMv2snFaKAnMdnvK        0   \n",
       "1           Avril Lavigne  spotify:track:00Mb3DuaIH1kjrwOku9CGU        0   \n",
       "2               blink-182  spotify:track:4LJhJ6DQS7NwE7UKtvcM52        0   \n",
       "3         Vanessa Carlton  spotify:track:4w1lzcaoZ1IC2K5TwjalRP        0   \n",
       "4     My Chemical Romance  spotify:track:5wQnmLuC1W7ATsArWACrgW        0   \n",
       "...                   ...                                   ...      ...   \n",
       "8335       Arctic Monkeys  spotify:track:7dWSVDMwoJXMqnG21AehRG        0   \n",
       "8336       Arctic Monkeys  spotify:track:11jRCxY01k9jvCdUru0EeP        0   \n",
       "8337      jamesjamesjames  spotify:track:0Zp9bIm1BeIyFiYNAof3Sm        0   \n",
       "8338         Fred again..  spotify:track:6gdDu39yYqPcaTgCwYEW8i        0   \n",
       "8339               venbee  spotify:track:5RobAV5ROH5KARimi7n3cO        0   \n",
       "\n",
       "      danceability  energy   key  loudness  ...  liveness  valence    tempo  \\\n",
       "0            0.731   0.867  11.0    -5.881  ...    0.0861   0.7760  104.019   \n",
       "1            0.487   0.900   0.0    -4.417  ...    0.3580   0.4840  149.937   \n",
       "2            0.391   0.951   6.0    -7.419  ...    0.0878   0.4680  157.660   \n",
       "3            0.560   0.825  11.0    -3.862  ...    0.1610   0.2680   94.931   \n",
       "4            0.217   0.905   2.0    -4.103  ...    0.2220   0.2360   96.950   \n",
       "...            ...     ...   ...       ...  ...       ...      ...      ...   \n",
       "8335         0.602   0.601  10.0    -5.742  ...    0.0735   0.5530  145.075   \n",
       "8336         0.560   0.313   7.0   -11.653  ...    0.0767   0.2540  144.745   \n",
       "8337         0.759   0.888  10.0   -10.005  ...    0.1840   0.0583  132.966   \n",
       "8338         0.683   0.887   6.0    -4.944  ...    0.3180   0.5510  132.007   \n",
       "8339         0.620   0.837   8.0    -4.356  ...    0.2420   0.4330  172.081   \n",
       "\n",
       "                type                      id  \\\n",
       "0     audio_features  3cfOd4CMv2snFaKAnMdnvK   \n",
       "1     audio_features  00Mb3DuaIH1kjrwOku9CGU   \n",
       "2     audio_features  4LJhJ6DQS7NwE7UKtvcM52   \n",
       "3     audio_features  4w1lzcaoZ1IC2K5TwjalRP   \n",
       "4     audio_features  5wQnmLuC1W7ATsArWACrgW   \n",
       "...              ...                     ...   \n",
       "8335  audio_features  7dWSVDMwoJXMqnG21AehRG   \n",
       "8336  audio_features  11jRCxY01k9jvCdUru0EeP   \n",
       "8337  audio_features  0Zp9bIm1BeIyFiYNAof3Sm   \n",
       "8338  audio_features  6gdDu39yYqPcaTgCwYEW8i   \n",
       "8339  audio_features  5RobAV5ROH5KARimi7n3cO   \n",
       "\n",
       "                                     uri.1  \\\n",
       "0     spotify:track:3cfOd4CMv2snFaKAnMdnvK   \n",
       "1     spotify:track:00Mb3DuaIH1kjrwOku9CGU   \n",
       "2     spotify:track:4LJhJ6DQS7NwE7UKtvcM52   \n",
       "3     spotify:track:4w1lzcaoZ1IC2K5TwjalRP   \n",
       "4     spotify:track:5wQnmLuC1W7ATsArWACrgW   \n",
       "...                                    ...   \n",
       "8335  spotify:track:7dWSVDMwoJXMqnG21AehRG   \n",
       "8336  spotify:track:11jRCxY01k9jvCdUru0EeP   \n",
       "8337  spotify:track:0Zp9bIm1BeIyFiYNAof3Sm   \n",
       "8338  spotify:track:6gdDu39yYqPcaTgCwYEW8i   \n",
       "8339  spotify:track:5RobAV5ROH5KARimi7n3cO   \n",
       "\n",
       "                                             track_href  \\\n",
       "0     https://api.spotify.com/v1/tracks/3cfOd4CMv2sn...   \n",
       "1     https://api.spotify.com/v1/tracks/00Mb3DuaIH1k...   \n",
       "2     https://api.spotify.com/v1/tracks/4LJhJ6DQS7Nw...   \n",
       "3     https://api.spotify.com/v1/tracks/4w1lzcaoZ1IC...   \n",
       "4     https://api.spotify.com/v1/tracks/5wQnmLuC1W7A...   \n",
       "...                                                 ...   \n",
       "8335  https://api.spotify.com/v1/tracks/7dWSVDMwoJXM...   \n",
       "8336  https://api.spotify.com/v1/tracks/11jRCxY01k9j...   \n",
       "8337  https://api.spotify.com/v1/tracks/0Zp9bIm1BeIy...   \n",
       "8338  https://api.spotify.com/v1/tracks/6gdDu39yYqPc...   \n",
       "8339  https://api.spotify.com/v1/tracks/5RobAV5ROH5K...   \n",
       "\n",
       "                                           analysis_url duration_ms  \\\n",
       "0     https://api.spotify.com/v1/audio-analysis/3cfO...    200373.0   \n",
       "1     https://api.spotify.com/v1/audio-analysis/00Mb...    204000.0   \n",
       "2     https://api.spotify.com/v1/audio-analysis/4LJh...    148360.0   \n",
       "3     https://api.spotify.com/v1/audio-analysis/4w1l...    237493.0   \n",
       "4     https://api.spotify.com/v1/audio-analysis/5wQn...    311107.0   \n",
       "...                                                 ...         ...   \n",
       "8335  https://api.spotify.com/v1/audio-analysis/7dWS...    180013.0   \n",
       "8336  https://api.spotify.com/v1/audio-analysis/11jR...    290584.0   \n",
       "8337  https://api.spotify.com/v1/audio-analysis/0Zp9...    412702.0   \n",
       "8338  https://api.spotify.com/v1/audio-analysis/6gdD...    267947.0   \n",
       "8339  https://api.spotify.com/v1/audio-analysis/5Rob...    170438.0   \n",
       "\n",
       "     time_signature  \n",
       "0               4.0  \n",
       "1               4.0  \n",
       "2               4.0  \n",
       "3               4.0  \n",
       "4               4.0  \n",
       "...             ...  \n",
       "8335            4.0  \n",
       "8336            4.0  \n",
       "8337            4.0  \n",
       "8338            4.0  \n",
       "8339            4.0  \n",
       "\n",
       "[8340 rows x 24 columns]"
      ]
     },
     "execution_count": 3,
     "metadata": {},
     "output_type": "execute_result"
    }
   ],
   "source": [
    "songs"
   ]
  },
  {
   "cell_type": "code",
   "execution_count": 4,
   "id": "9f4a0810",
   "metadata": {},
   "outputs": [],
   "source": [
    "# Some minimal cleaning (I should have put \"drop = True\" into my function before - keep adding new indexes)\n",
    "songs = songs.drop(columns = [\"Unnamed: 0\", \"index\", \"index.1\"]).copy()"
   ]
  },
  {
   "cell_type": "code",
   "execution_count": 5,
   "id": "52291799",
   "metadata": {
    "scrolled": true
   },
   "outputs": [],
   "source": [
    "songs = songs[~songs['tempo'].isna()]"
   ]
  },
  {
   "cell_type": "markdown",
   "id": "7978ef4a",
   "metadata": {},
   "source": [
    "## On to the clustering!"
   ]
  },
  {
   "cell_type": "markdown",
   "id": "e8adc79e",
   "metadata": {},
   "source": [
    "### First, finding the right value for k"
   ]
  },
  {
   "cell_type": "code",
   "execution_count": 6,
   "id": "0fc99060",
   "metadata": {},
   "outputs": [],
   "source": [
    "# I need to filter out the non-numeric data first.\n",
    "songsnum = songs.select_dtypes(include = np.number)"
   ]
  },
  {
   "cell_type": "code",
   "execution_count": 7,
   "id": "1cd8df23",
   "metadata": {},
   "outputs": [],
   "source": [
    "#songsnum"
   ]
  },
  {
   "cell_type": "code",
   "execution_count": 8,
   "id": "c422d5f1",
   "metadata": {},
   "outputs": [],
   "source": [
    "K = range(2, 20)\n",
    "inertia = []\n",
    "silhouette = []\n",
    "\n",
    "\n",
    "for k in K:\n",
    "    kmeans = cluster.KMeans(n_clusters=k,\n",
    "                    random_state=1989)\n",
    "    kmeans.fit(songsnum)\n",
    "    inertia.append(kmeans.inertia_)\n",
    "    silhouette.append(silhouette_score(songsnum, kmeans.predict(songsnum)))\n",
    "\n"
   ]
  },
  {
   "cell_type": "code",
   "execution_count": 9,
   "id": "39a03a82",
   "metadata": {},
   "outputs": [
    {
     "data": {
      "text/plain": [
       "Text(0.5, 1.0, 'Elbow Method showing the optimal k')"
      ]
     },
     "execution_count": 9,
     "metadata": {},
     "output_type": "execute_result"
    },
    {
     "data": {
      "image/png": "[encoded data removed]",
      "text/plain": [
       "<Figure size 1152x576 with 1 Axes>"
      ]
     },
     "metadata": {
      "needs_background": "light"
     },
     "output_type": "display_data"
    }
   ],
   "source": [
    "# Show the elbow graph thing\n",
    "%matplotlib inline\n",
    "\n",
    "plt.figure(figsize=(16,8))\n",
    "plt.plot(K, inertia, 'bx-')\n",
    "plt.xlabel('k')\n",
    "plt.ylabel('inertia')\n",
    "plt.xticks(np.arange(min(K), max(K)+1, 1.0))\n",
    "plt.title('Elbow Method showing the optimal k')"
   ]
  },
  {
   "cell_type": "code",
   "execution_count": 10,
   "id": "da1d390a",
   "metadata": {},
   "outputs": [
    {
     "data": {
      "text/plain": [
       "Text(0.5, 1.0, 'Slhouette score showing the optimal k')"
      ]
     },
     "execution_count": 10,
     "metadata": {},
     "output_type": "execute_result"
    },
    {
     "data": {
      "image/png": "[encoded data removed]",
      "text/plain": [
       "<Figure size 1152x576 with 1 Axes>"
      ]
     },
     "metadata": {
      "needs_background": "light"
     },
     "output_type": "display_data"
    }
   ],
   "source": [
    "# Show the silhouette score\n",
    "plt.figure(figsize=(16,8))\n",
    "plt.plot(K, silhouette, 'bx-')\n",
    "plt.xlabel('k')\n",
    "plt.ylabel('silhouette score')\n",
    "plt.xticks(np.arange(min(K), max(K)+1, 1.0))\n",
    "plt.title('Slhouette score showing the optimal k')"
   ]
  },
  {
   "cell_type": "markdown",
   "id": "de355af6",
   "metadata": {},
   "source": [
    "Based on these graphs (and a conversation with Erin), I'm going to go with 5 clusters. "
   ]
  },
  {
   "cell_type": "markdown",
   "id": "64bf9d51",
   "metadata": {},
   "source": [
    "### Next, assigning clusters to my songs"
   ]
  },
  {
   "cell_type": "code",
   "execution_count": 11,
   "id": "c3e67de5",
   "metadata": {},
   "outputs": [],
   "source": [
    "# First, scale the previous."
   ]
  },
  {
   "cell_type": "code",
   "execution_count": 12,
   "id": "ee36a974",
   "metadata": {},
   "outputs": [
    {
     "data": {
      "text/html": [
       "<style>#sk-container-id-1 {color: black;background-color: white;}#sk-container-id-1 pre{padding: 0;}#sk-container-id-1 div.sk-toggleable {background-color: white;}#sk-container-id-1 label.sk-toggleable__label {cursor: pointer;display: block;width: 100%;margin-bottom: 0;padding: 0.3em;box-sizing: border-box;text-align: center;}#sk-container-id-1 label.sk-toggleable__label-arrow:before {content: \"▸\";float: left;margin-right: 0.25em;color: #696969;}#sk-container-id-1 label.sk-toggleable__label-arrow:hover:before {color: black;}#sk-container-id-1 div.sk-estimator:hover label.sk-toggleable__label-arrow:before {color: black;}#sk-container-id-1 div.sk-toggleable__content {max-height: 0;max-width: 0;overflow: hidden;text-align: left;background-color: #f0f8ff;}#sk-container-id-1 div.sk-toggleable__content pre {margin: 0.2em;color: black;border-radius: 0.25em;background-color: #f0f8ff;}#sk-container-id-1 input.sk-toggleable__control:checked~div.sk-toggleable__content {max-height: 200px;max-width: 100%;overflow: auto;}#sk-container-id-1 input.sk-toggleable__control:checked~label.sk-toggleable__label-arrow:before {content: \"▾\";}#sk-container-id-1 div.sk-estimator input.sk-toggleable__control:checked~label.sk-toggleable__label {background-color: #d4ebff;}#sk-container-id-1 div.sk-label input.sk-toggleable__control:checked~label.sk-toggleable__label {background-color: #d4ebff;}#sk-container-id-1 input.sk-hidden--visually {border: 0;clip: rect(1px 1px 1px 1px);clip: rect(1px, 1px, 1px, 1px);height: 1px;margin: -1px;overflow: hidden;padding: 0;position: absolute;width: 1px;}#sk-container-id-1 div.sk-estimator {font-family: monospace;background-color: #f0f8ff;border: 1px dotted black;border-radius: 0.25em;box-sizing: border-box;margin-bottom: 0.5em;}#sk-container-id-1 div.sk-estimator:hover {background-color: #d4ebff;}#sk-container-id-1 div.sk-parallel-item::after {content: \"\";width: 100%;border-bottom: 1px solid gray;flex-grow: 1;}#sk-container-id-1 div.sk-label:hover label.sk-toggleable__label {background-color: #d4ebff;}#sk-container-id-1 div.sk-serial::before {content: \"\";position: absolute;border-left: 1px solid gray;box-sizing: border-box;top: 0;bottom: 0;left: 50%;z-index: 0;}#sk-container-id-1 div.sk-serial {display: flex;flex-direction: column;align-items: center;background-color: white;padding-right: 0.2em;padding-left: 0.2em;position: relative;}#sk-container-id-1 div.sk-item {position: relative;z-index: 1;}#sk-container-id-1 div.sk-parallel {display: flex;align-items: stretch;justify-content: center;background-color: white;position: relative;}#sk-container-id-1 div.sk-item::before, #sk-container-id-1 div.sk-parallel-item::before {content: \"\";position: absolute;border-left: 1px solid gray;box-sizing: border-box;top: 0;bottom: 0;left: 50%;z-index: -1;}#sk-container-id-1 div.sk-parallel-item {display: flex;flex-direction: column;z-index: 1;position: relative;background-color: white;}#sk-container-id-1 div.sk-parallel-item:first-child::after {align-self: flex-end;width: 50%;}#sk-container-id-1 div.sk-parallel-item:last-child::after {align-self: flex-start;width: 50%;}#sk-container-id-1 div.sk-parallel-item:only-child::after {width: 0;}#sk-container-id-1 div.sk-dashed-wrapped {border: 1px dashed gray;margin: 0 0.4em 0.5em 0.4em;box-sizing: border-box;padding-bottom: 0.4em;background-color: white;}#sk-container-id-1 div.sk-label label {font-family: monospace;font-weight: bold;display: inline-block;line-height: 1.2em;}#sk-container-id-1 div.sk-label-container {text-align: center;}#sk-container-id-1 div.sk-container {/* jupyter's `normalize.less` sets `[hidden] { display: none; }` but bootstrap.min.css set `[hidden] { display: none !important; }` so we also need the `!important` here to be able to override the default hidden behavior on the sphinx rendered scikit-learn.org. See: https://github.com/scikit-learn/scikit-learn/issues/21755 */display: inline-block !important;position: relative;}#sk-container-id-1 div.sk-text-repr-fallback {display: none;}</style><div id=\"sk-container-id-1\" class=\"sk-top-container\"><div class=\"sk-text-repr-fallback\"><pre>StandardScaler()</pre><b>In a Jupyter environment, please rerun this cell to show the HTML representation or trust the notebook. <br />On GitHub, the HTML representation is unable to render, please try loading this page with nbviewer.org.</b></div><div class=\"sk-container\" hidden><div class=\"sk-item\"><div class=\"sk-estimator sk-toggleable\"><input class=\"sk-toggleable__control sk-hidden--visually\" id=\"sk-estimator-id-1\" type=\"checkbox\" checked><label for=\"sk-estimator-id-1\" class=\"sk-toggleable__label sk-toggleable__label-arrow\">StandardScaler</label><div class=\"sk-toggleable__content\"><pre>StandardScaler()</pre></div></div></div></div></div>"
      ],
      "text/plain": [
       "StandardScaler()"
      ]
     },
     "execution_count": 12,
     "metadata": {},
     "output_type": "execute_result"
    }
   ],
   "source": [
    "scaler = StandardScaler()\n",
    "scaler.fit(songsnum)"
   ]
  },
  {
   "cell_type": "code",
   "execution_count": 13,
   "id": "9994fed3",
   "metadata": {},
   "outputs": [],
   "source": [
    "scaled = scaler.transform(songsnum)"
   ]
  },
  {
   "cell_type": "code",
   "execution_count": 14,
   "id": "c0133a44",
   "metadata": {},
   "outputs": [
    {
     "data": {
      "text/html": [
       "<style>#sk-container-id-2 {color: black;background-color: white;}#sk-container-id-2 pre{padding: 0;}#sk-container-id-2 div.sk-toggleable {background-color: white;}#sk-container-id-2 label.sk-toggleable__label {cursor: pointer;display: block;width: 100%;margin-bottom: 0;padding: 0.3em;box-sizing: border-box;text-align: center;}#sk-container-id-2 label.sk-toggleable__label-arrow:before {content: \"▸\";float: left;margin-right: 0.25em;color: #696969;}#sk-container-id-2 label.sk-toggleable__label-arrow:hover:before {color: black;}#sk-container-id-2 div.sk-estimator:hover label.sk-toggleable__label-arrow:before {color: black;}#sk-container-id-2 div.sk-toggleable__content {max-height: 0;max-width: 0;overflow: hidden;text-align: left;background-color: #f0f8ff;}#sk-container-id-2 div.sk-toggleable__content pre {margin: 0.2em;color: black;border-radius: 0.25em;background-color: #f0f8ff;}#sk-container-id-2 input.sk-toggleable__control:checked~div.sk-toggleable__content {max-height: 200px;max-width: 100%;overflow: auto;}#sk-container-id-2 input.sk-toggleable__control:checked~label.sk-toggleable__label-arrow:before {content: \"▾\";}#sk-container-id-2 div.sk-estimator input.sk-toggleable__control:checked~label.sk-toggleable__label {background-color: #d4ebff;}#sk-container-id-2 div.sk-label input.sk-toggleable__control:checked~label.sk-toggleable__label {background-color: #d4ebff;}#sk-container-id-2 input.sk-hidden--visually {border: 0;clip: rect(1px 1px 1px 1px);clip: rect(1px, 1px, 1px, 1px);height: 1px;margin: -1px;overflow: hidden;padding: 0;position: absolute;width: 1px;}#sk-container-id-2 div.sk-estimator {font-family: monospace;background-color: #f0f8ff;border: 1px dotted black;border-radius: 0.25em;box-sizing: border-box;margin-bottom: 0.5em;}#sk-container-id-2 div.sk-estimator:hover {background-color: #d4ebff;}#sk-container-id-2 div.sk-parallel-item::after {content: \"\";width: 100%;border-bottom: 1px solid gray;flex-grow: 1;}#sk-container-id-2 div.sk-label:hover label.sk-toggleable__label {background-color: #d4ebff;}#sk-container-id-2 div.sk-serial::before {content: \"\";position: absolute;border-left: 1px solid gray;box-sizing: border-box;top: 0;bottom: 0;left: 50%;z-index: 0;}#sk-container-id-2 div.sk-serial {display: flex;flex-direction: column;align-items: center;background-color: white;padding-right: 0.2em;padding-left: 0.2em;position: relative;}#sk-container-id-2 div.sk-item {position: relative;z-index: 1;}#sk-container-id-2 div.sk-parallel {display: flex;align-items: stretch;justify-content: center;background-color: white;position: relative;}#sk-container-id-2 div.sk-item::before, #sk-container-id-2 div.sk-parallel-item::before {content: \"\";position: absolute;border-left: 1px solid gray;box-sizing: border-box;top: 0;bottom: 0;left: 50%;z-index: -1;}#sk-container-id-2 div.sk-parallel-item {display: flex;flex-direction: column;z-index: 1;position: relative;background-color: white;}#sk-container-id-2 div.sk-parallel-item:first-child::after {align-self: flex-end;width: 50%;}#sk-container-id-2 div.sk-parallel-item:last-child::after {align-self: flex-start;width: 50%;}#sk-container-id-2 div.sk-parallel-item:only-child::after {width: 0;}#sk-container-id-2 div.sk-dashed-wrapped {border: 1px dashed gray;margin: 0 0.4em 0.5em 0.4em;box-sizing: border-box;padding-bottom: 0.4em;background-color: white;}#sk-container-id-2 div.sk-label label {font-family: monospace;font-weight: bold;display: inline-block;line-height: 1.2em;}#sk-container-id-2 div.sk-label-container {text-align: center;}#sk-container-id-2 div.sk-container {/* jupyter's `normalize.less` sets `[hidden] { display: none; }` but bootstrap.min.css set `[hidden] { display: none !important; }` so we also need the `!important` here to be able to override the default hidden behavior on the sphinx rendered scikit-learn.org. See: https://github.com/scikit-learn/scikit-learn/issues/21755 */display: inline-block !important;position: relative;}#sk-container-id-2 div.sk-text-repr-fallback {display: none;}</style><div id=\"sk-container-id-2\" class=\"sk-top-container\"><div class=\"sk-text-repr-fallback\"><pre>KMeans(n_clusters=5, random_state=1989)</pre><b>In a Jupyter environment, please rerun this cell to show the HTML representation or trust the notebook. <br />On GitHub, the HTML representation is unable to render, please try loading this page with nbviewer.org.</b></div><div class=\"sk-container\" hidden><div class=\"sk-item\"><div class=\"sk-estimator sk-toggleable\"><input class=\"sk-toggleable__control sk-hidden--visually\" id=\"sk-estimator-id-2\" type=\"checkbox\" checked><label for=\"sk-estimator-id-2\" class=\"sk-toggleable__label sk-toggleable__label-arrow\">KMeans</label><div class=\"sk-toggleable__content\"><pre>KMeans(n_clusters=5, random_state=1989)</pre></div></div></div></div></div>"
      ],
      "text/plain": [
       "KMeans(n_clusters=5, random_state=1989)"
      ]
     },
     "execution_count": 14,
     "metadata": {},
     "output_type": "execute_result"
    }
   ],
   "source": [
    "kmeans = cluster.KMeans(n_clusters=5, random_state=1989)\n",
    "kmeans.fit(scaled)"
   ]
  },
  {
   "cell_type": "code",
   "execution_count": 15,
   "id": "416e7acb",
   "metadata": {},
   "outputs": [],
   "source": [
    "clusters = kmeans.predict(scaled)\n"
   ]
  },
  {
   "cell_type": "code",
   "execution_count": 16,
   "id": "6a21d9b9",
   "metadata": {},
   "outputs": [
    {
     "data": {
      "text/plain": [
       "array([3, 2, 2, ..., 4, 4, 2], dtype=int32)"
      ]
     },
     "execution_count": 16,
     "metadata": {},
     "output_type": "execute_result"
    }
   ],
   "source": [
    "clusters"
   ]
  },
  {
   "cell_type": "code",
   "execution_count": 17,
   "id": "1e5cac82",
   "metadata": {},
   "outputs": [
    {
     "data": {
      "text/plain": [
       "8339"
      ]
     },
     "execution_count": 17,
     "metadata": {},
     "output_type": "execute_result"
    }
   ],
   "source": [
    "len(clusters)"
   ]
  },
  {
   "cell_type": "markdown",
   "id": "f8d2c765",
   "metadata": {},
   "source": [
    "Append these to my dataframe"
   ]
  },
  {
   "cell_type": "code",
   "execution_count": 18,
   "id": "90b4a4db",
   "metadata": {},
   "outputs": [],
   "source": [
    "songs['cluster'] = clusters"
   ]
  },
  {
   "cell_type": "code",
   "execution_count": 19,
   "id": "4798af09",
   "metadata": {},
   "outputs": [
    {
     "data": {
      "text/html": [
       "<div>\n",
       "<style scoped>\n",
       "    .dataframe tbody tr th:only-of-type {\n",
       "        vertical-align: middle;\n",
       "    }\n",
       "\n",
       "    .dataframe tbody tr th {\n",
       "        vertical-align: top;\n",
       "    }\n",
       "\n",
       "    .dataframe thead th {\n",
       "        text-align: right;\n",
       "    }\n",
       "</style>\n",
       "<table border=\"1\" class=\"dataframe\">\n",
       "  <thead>\n",
       "    <tr style=\"text-align: right;\">\n",
       "      <th></th>\n",
       "      <th>titles</th>\n",
       "      <th>artists</th>\n",
       "      <th>uri</th>\n",
       "      <th>danceability</th>\n",
       "      <th>energy</th>\n",
       "      <th>key</th>\n",
       "      <th>loudness</th>\n",
       "      <th>mode</th>\n",
       "      <th>speechiness</th>\n",
       "      <th>acousticness</th>\n",
       "      <th>...</th>\n",
       "      <th>valence</th>\n",
       "      <th>tempo</th>\n",
       "      <th>type</th>\n",
       "      <th>id</th>\n",
       "      <th>uri.1</th>\n",
       "      <th>track_href</th>\n",
       "      <th>analysis_url</th>\n",
       "      <th>duration_ms</th>\n",
       "      <th>time_signature</th>\n",
       "      <th>cluster</th>\n",
       "    </tr>\n",
       "  </thead>\n",
       "  <tbody>\n",
       "    <tr>\n",
       "      <th>0</th>\n",
       "      <td>All Star</td>\n",
       "      <td>Smash Mouth</td>\n",
       "      <td>spotify:track:3cfOd4CMv2snFaKAnMdnvK</td>\n",
       "      <td>0.731</td>\n",
       "      <td>0.867</td>\n",
       "      <td>11.0</td>\n",
       "      <td>-5.881</td>\n",
       "      <td>1.0</td>\n",
       "      <td>0.0320</td>\n",
       "      <td>0.039500</td>\n",
       "      <td>...</td>\n",
       "      <td>0.7760</td>\n",
       "      <td>104.019</td>\n",
       "      <td>audio_features</td>\n",
       "      <td>3cfOd4CMv2snFaKAnMdnvK</td>\n",
       "      <td>spotify:track:3cfOd4CMv2snFaKAnMdnvK</td>\n",
       "      <td>https://api.spotify.com/v1/tracks/3cfOd4CMv2sn...</td>\n",
       "      <td>https://api.spotify.com/v1/audio-analysis/3cfO...</td>\n",
       "      <td>200373.0</td>\n",
       "      <td>4.0</td>\n",
       "      <td>3</td>\n",
       "    </tr>\n",
       "    <tr>\n",
       "      <th>1</th>\n",
       "      <td>Sk8er Boi</td>\n",
       "      <td>Avril Lavigne</td>\n",
       "      <td>spotify:track:00Mb3DuaIH1kjrwOku9CGU</td>\n",
       "      <td>0.487</td>\n",
       "      <td>0.900</td>\n",
       "      <td>0.0</td>\n",
       "      <td>-4.417</td>\n",
       "      <td>1.0</td>\n",
       "      <td>0.0482</td>\n",
       "      <td>0.000068</td>\n",
       "      <td>...</td>\n",
       "      <td>0.4840</td>\n",
       "      <td>149.937</td>\n",
       "      <td>audio_features</td>\n",
       "      <td>00Mb3DuaIH1kjrwOku9CGU</td>\n",
       "      <td>spotify:track:00Mb3DuaIH1kjrwOku9CGU</td>\n",
       "      <td>https://api.spotify.com/v1/tracks/00Mb3DuaIH1k...</td>\n",
       "      <td>https://api.spotify.com/v1/audio-analysis/00Mb...</td>\n",
       "      <td>204000.0</td>\n",
       "      <td>4.0</td>\n",
       "      <td>2</td>\n",
       "    </tr>\n",
       "    <tr>\n",
       "      <th>2</th>\n",
       "      <td>What's My Age Again?</td>\n",
       "      <td>blink-182</td>\n",
       "      <td>spotify:track:4LJhJ6DQS7NwE7UKtvcM52</td>\n",
       "      <td>0.391</td>\n",
       "      <td>0.951</td>\n",
       "      <td>6.0</td>\n",
       "      <td>-7.419</td>\n",
       "      <td>1.0</td>\n",
       "      <td>0.0692</td>\n",
       "      <td>0.012600</td>\n",
       "      <td>...</td>\n",
       "      <td>0.4680</td>\n",
       "      <td>157.660</td>\n",
       "      <td>audio_features</td>\n",
       "      <td>4LJhJ6DQS7NwE7UKtvcM52</td>\n",
       "      <td>spotify:track:4LJhJ6DQS7NwE7UKtvcM52</td>\n",
       "      <td>https://api.spotify.com/v1/tracks/4LJhJ6DQS7Nw...</td>\n",
       "      <td>https://api.spotify.com/v1/audio-analysis/4LJh...</td>\n",
       "      <td>148360.0</td>\n",
       "      <td>4.0</td>\n",
       "      <td>2</td>\n",
       "    </tr>\n",
       "    <tr>\n",
       "      <th>3</th>\n",
       "      <td>A Thousand Miles</td>\n",
       "      <td>Vanessa Carlton</td>\n",
       "      <td>spotify:track:4w1lzcaoZ1IC2K5TwjalRP</td>\n",
       "      <td>0.560</td>\n",
       "      <td>0.825</td>\n",
       "      <td>11.0</td>\n",
       "      <td>-3.862</td>\n",
       "      <td>1.0</td>\n",
       "      <td>0.0379</td>\n",
       "      <td>0.323000</td>\n",
       "      <td>...</td>\n",
       "      <td>0.2680</td>\n",
       "      <td>94.931</td>\n",
       "      <td>audio_features</td>\n",
       "      <td>4w1lzcaoZ1IC2K5TwjalRP</td>\n",
       "      <td>spotify:track:4w1lzcaoZ1IC2K5TwjalRP</td>\n",
       "      <td>https://api.spotify.com/v1/tracks/4w1lzcaoZ1IC...</td>\n",
       "      <td>https://api.spotify.com/v1/audio-analysis/4w1l...</td>\n",
       "      <td>237493.0</td>\n",
       "      <td>4.0</td>\n",
       "      <td>2</td>\n",
       "    </tr>\n",
       "    <tr>\n",
       "      <th>4</th>\n",
       "      <td>Welcome to the Black Parade</td>\n",
       "      <td>My Chemical Romance</td>\n",
       "      <td>spotify:track:5wQnmLuC1W7ATsArWACrgW</td>\n",
       "      <td>0.217</td>\n",
       "      <td>0.905</td>\n",
       "      <td>2.0</td>\n",
       "      <td>-4.103</td>\n",
       "      <td>1.0</td>\n",
       "      <td>0.0752</td>\n",
       "      <td>0.000289</td>\n",
       "      <td>...</td>\n",
       "      <td>0.2360</td>\n",
       "      <td>96.950</td>\n",
       "      <td>audio_features</td>\n",
       "      <td>5wQnmLuC1W7ATsArWACrgW</td>\n",
       "      <td>spotify:track:5wQnmLuC1W7ATsArWACrgW</td>\n",
       "      <td>https://api.spotify.com/v1/tracks/5wQnmLuC1W7A...</td>\n",
       "      <td>https://api.spotify.com/v1/audio-analysis/5wQn...</td>\n",
       "      <td>311107.0</td>\n",
       "      <td>4.0</td>\n",
       "      <td>2</td>\n",
       "    </tr>\n",
       "    <tr>\n",
       "      <th>...</th>\n",
       "      <td>...</td>\n",
       "      <td>...</td>\n",
       "      <td>...</td>\n",
       "      <td>...</td>\n",
       "      <td>...</td>\n",
       "      <td>...</td>\n",
       "      <td>...</td>\n",
       "      <td>...</td>\n",
       "      <td>...</td>\n",
       "      <td>...</td>\n",
       "      <td>...</td>\n",
       "      <td>...</td>\n",
       "      <td>...</td>\n",
       "      <td>...</td>\n",
       "      <td>...</td>\n",
       "      <td>...</td>\n",
       "      <td>...</td>\n",
       "      <td>...</td>\n",
       "      <td>...</td>\n",
       "      <td>...</td>\n",
       "      <td>...</td>\n",
       "    </tr>\n",
       "    <tr>\n",
       "      <th>8335</th>\n",
       "      <td>The World's First Ever Monster Truck Front Flip</td>\n",
       "      <td>Arctic Monkeys</td>\n",
       "      <td>spotify:track:7dWSVDMwoJXMqnG21AehRG</td>\n",
       "      <td>0.602</td>\n",
       "      <td>0.601</td>\n",
       "      <td>10.0</td>\n",
       "      <td>-5.742</td>\n",
       "      <td>1.0</td>\n",
       "      <td>0.0303</td>\n",
       "      <td>0.346000</td>\n",
       "      <td>...</td>\n",
       "      <td>0.5530</td>\n",
       "      <td>145.075</td>\n",
       "      <td>audio_features</td>\n",
       "      <td>7dWSVDMwoJXMqnG21AehRG</td>\n",
       "      <td>spotify:track:7dWSVDMwoJXMqnG21AehRG</td>\n",
       "      <td>https://api.spotify.com/v1/tracks/7dWSVDMwoJXM...</td>\n",
       "      <td>https://api.spotify.com/v1/audio-analysis/7dWS...</td>\n",
       "      <td>180013.0</td>\n",
       "      <td>4.0</td>\n",
       "      <td>3</td>\n",
       "    </tr>\n",
       "    <tr>\n",
       "      <th>8336</th>\n",
       "      <td>Body Paint</td>\n",
       "      <td>Arctic Monkeys</td>\n",
       "      <td>spotify:track:11jRCxY01k9jvCdUru0EeP</td>\n",
       "      <td>0.560</td>\n",
       "      <td>0.313</td>\n",
       "      <td>7.0</td>\n",
       "      <td>-11.653</td>\n",
       "      <td>0.0</td>\n",
       "      <td>0.0627</td>\n",
       "      <td>0.567000</td>\n",
       "      <td>...</td>\n",
       "      <td>0.2540</td>\n",
       "      <td>144.745</td>\n",
       "      <td>audio_features</td>\n",
       "      <td>11jRCxY01k9jvCdUru0EeP</td>\n",
       "      <td>spotify:track:11jRCxY01k9jvCdUru0EeP</td>\n",
       "      <td>https://api.spotify.com/v1/tracks/11jRCxY01k9j...</td>\n",
       "      <td>https://api.spotify.com/v1/audio-analysis/11jR...</td>\n",
       "      <td>290584.0</td>\n",
       "      <td>4.0</td>\n",
       "      <td>1</td>\n",
       "    </tr>\n",
       "    <tr>\n",
       "      <th>8337</th>\n",
       "      <td>My Purple iPod Nano</td>\n",
       "      <td>jamesjamesjames</td>\n",
       "      <td>spotify:track:0Zp9bIm1BeIyFiYNAof3Sm</td>\n",
       "      <td>0.759</td>\n",
       "      <td>0.888</td>\n",
       "      <td>10.0</td>\n",
       "      <td>-10.005</td>\n",
       "      <td>1.0</td>\n",
       "      <td>0.0975</td>\n",
       "      <td>0.333000</td>\n",
       "      <td>...</td>\n",
       "      <td>0.0583</td>\n",
       "      <td>132.966</td>\n",
       "      <td>audio_features</td>\n",
       "      <td>0Zp9bIm1BeIyFiYNAof3Sm</td>\n",
       "      <td>spotify:track:0Zp9bIm1BeIyFiYNAof3Sm</td>\n",
       "      <td>https://api.spotify.com/v1/tracks/0Zp9bIm1BeIy...</td>\n",
       "      <td>https://api.spotify.com/v1/audio-analysis/0Zp9...</td>\n",
       "      <td>412702.0</td>\n",
       "      <td>4.0</td>\n",
       "      <td>4</td>\n",
       "    </tr>\n",
       "    <tr>\n",
       "      <th>8338</th>\n",
       "      <td>Turn On The Lights again.. (feat. Future)</td>\n",
       "      <td>Fred again..</td>\n",
       "      <td>spotify:track:6gdDu39yYqPcaTgCwYEW8i</td>\n",
       "      <td>0.683</td>\n",
       "      <td>0.887</td>\n",
       "      <td>6.0</td>\n",
       "      <td>-4.944</td>\n",
       "      <td>0.0</td>\n",
       "      <td>0.0497</td>\n",
       "      <td>0.012500</td>\n",
       "      <td>...</td>\n",
       "      <td>0.5510</td>\n",
       "      <td>132.007</td>\n",
       "      <td>audio_features</td>\n",
       "      <td>6gdDu39yYqPcaTgCwYEW8i</td>\n",
       "      <td>spotify:track:6gdDu39yYqPcaTgCwYEW8i</td>\n",
       "      <td>https://api.spotify.com/v1/tracks/6gdDu39yYqPc...</td>\n",
       "      <td>https://api.spotify.com/v1/audio-analysis/6gdD...</td>\n",
       "      <td>267947.0</td>\n",
       "      <td>4.0</td>\n",
       "      <td>4</td>\n",
       "    </tr>\n",
       "    <tr>\n",
       "      <th>8339</th>\n",
       "      <td>messy in heaven</td>\n",
       "      <td>venbee</td>\n",
       "      <td>spotify:track:5RobAV5ROH5KARimi7n3cO</td>\n",
       "      <td>0.620</td>\n",
       "      <td>0.837</td>\n",
       "      <td>8.0</td>\n",
       "      <td>-4.356</td>\n",
       "      <td>0.0</td>\n",
       "      <td>0.1300</td>\n",
       "      <td>0.128000</td>\n",
       "      <td>...</td>\n",
       "      <td>0.4330</td>\n",
       "      <td>172.081</td>\n",
       "      <td>audio_features</td>\n",
       "      <td>5RobAV5ROH5KARimi7n3cO</td>\n",
       "      <td>spotify:track:5RobAV5ROH5KARimi7n3cO</td>\n",
       "      <td>https://api.spotify.com/v1/tracks/5RobAV5ROH5K...</td>\n",
       "      <td>https://api.spotify.com/v1/audio-analysis/5Rob...</td>\n",
       "      <td>170438.0</td>\n",
       "      <td>4.0</td>\n",
       "      <td>2</td>\n",
       "    </tr>\n",
       "  </tbody>\n",
       "</table>\n",
       "<p>8339 rows × 22 columns</p>\n",
       "</div>"
      ],
      "text/plain": [
       "                                               titles              artists  \\\n",
       "0                                            All Star          Smash Mouth   \n",
       "1                                           Sk8er Boi        Avril Lavigne   \n",
       "2                                What's My Age Again?            blink-182   \n",
       "3                                    A Thousand Miles      Vanessa Carlton   \n",
       "4                         Welcome to the Black Parade  My Chemical Romance   \n",
       "...                                               ...                  ...   \n",
       "8335  The World's First Ever Monster Truck Front Flip       Arctic Monkeys   \n",
       "8336                                       Body Paint       Arctic Monkeys   \n",
       "8337                              My Purple iPod Nano      jamesjamesjames   \n",
       "8338        Turn On The Lights again.. (feat. Future)         Fred again..   \n",
       "8339                                  messy in heaven               venbee   \n",
       "\n",
       "                                       uri  danceability  energy   key  \\\n",
       "0     spotify:track:3cfOd4CMv2snFaKAnMdnvK         0.731   0.867  11.0   \n",
       "1     spotify:track:00Mb3DuaIH1kjrwOku9CGU         0.487   0.900   0.0   \n",
       "2     spotify:track:4LJhJ6DQS7NwE7UKtvcM52         0.391   0.951   6.0   \n",
       "3     spotify:track:4w1lzcaoZ1IC2K5TwjalRP         0.560   0.825  11.0   \n",
       "4     spotify:track:5wQnmLuC1W7ATsArWACrgW         0.217   0.905   2.0   \n",
       "...                                    ...           ...     ...   ...   \n",
       "8335  spotify:track:7dWSVDMwoJXMqnG21AehRG         0.602   0.601  10.0   \n",
       "8336  spotify:track:11jRCxY01k9jvCdUru0EeP         0.560   0.313   7.0   \n",
       "8337  spotify:track:0Zp9bIm1BeIyFiYNAof3Sm         0.759   0.888  10.0   \n",
       "8338  spotify:track:6gdDu39yYqPcaTgCwYEW8i         0.683   0.887   6.0   \n",
       "8339  spotify:track:5RobAV5ROH5KARimi7n3cO         0.620   0.837   8.0   \n",
       "\n",
       "      loudness  mode  speechiness  acousticness  ...  valence    tempo  \\\n",
       "0       -5.881   1.0       0.0320      0.039500  ...   0.7760  104.019   \n",
       "1       -4.417   1.0       0.0482      0.000068  ...   0.4840  149.937   \n",
       "2       -7.419   1.0       0.0692      0.012600  ...   0.4680  157.660   \n",
       "3       -3.862   1.0       0.0379      0.323000  ...   0.2680   94.931   \n",
       "4       -4.103   1.0       0.0752      0.000289  ...   0.2360   96.950   \n",
       "...        ...   ...          ...           ...  ...      ...      ...   \n",
       "8335    -5.742   1.0       0.0303      0.346000  ...   0.5530  145.075   \n",
       "8336   -11.653   0.0       0.0627      0.567000  ...   0.2540  144.745   \n",
       "8337   -10.005   1.0       0.0975      0.333000  ...   0.0583  132.966   \n",
       "8338    -4.944   0.0       0.0497      0.012500  ...   0.5510  132.007   \n",
       "8339    -4.356   0.0       0.1300      0.128000  ...   0.4330  172.081   \n",
       "\n",
       "                type                      id  \\\n",
       "0     audio_features  3cfOd4CMv2snFaKAnMdnvK   \n",
       "1     audio_features  00Mb3DuaIH1kjrwOku9CGU   \n",
       "2     audio_features  4LJhJ6DQS7NwE7UKtvcM52   \n",
       "3     audio_features  4w1lzcaoZ1IC2K5TwjalRP   \n",
       "4     audio_features  5wQnmLuC1W7ATsArWACrgW   \n",
       "...              ...                     ...   \n",
       "8335  audio_features  7dWSVDMwoJXMqnG21AehRG   \n",
       "8336  audio_features  11jRCxY01k9jvCdUru0EeP   \n",
       "8337  audio_features  0Zp9bIm1BeIyFiYNAof3Sm   \n",
       "8338  audio_features  6gdDu39yYqPcaTgCwYEW8i   \n",
       "8339  audio_features  5RobAV5ROH5KARimi7n3cO   \n",
       "\n",
       "                                     uri.1  \\\n",
       "0     spotify:track:3cfOd4CMv2snFaKAnMdnvK   \n",
       "1     spotify:track:00Mb3DuaIH1kjrwOku9CGU   \n",
       "2     spotify:track:4LJhJ6DQS7NwE7UKtvcM52   \n",
       "3     spotify:track:4w1lzcaoZ1IC2K5TwjalRP   \n",
       "4     spotify:track:5wQnmLuC1W7ATsArWACrgW   \n",
       "...                                    ...   \n",
       "8335  spotify:track:7dWSVDMwoJXMqnG21AehRG   \n",
       "8336  spotify:track:11jRCxY01k9jvCdUru0EeP   \n",
       "8337  spotify:track:0Zp9bIm1BeIyFiYNAof3Sm   \n",
       "8338  spotify:track:6gdDu39yYqPcaTgCwYEW8i   \n",
       "8339  spotify:track:5RobAV5ROH5KARimi7n3cO   \n",
       "\n",
       "                                             track_href  \\\n",
       "0     https://api.spotify.com/v1/tracks/3cfOd4CMv2sn...   \n",
       "1     https://api.spotify.com/v1/tracks/00Mb3DuaIH1k...   \n",
       "2     https://api.spotify.com/v1/tracks/4LJhJ6DQS7Nw...   \n",
       "3     https://api.spotify.com/v1/tracks/4w1lzcaoZ1IC...   \n",
       "4     https://api.spotify.com/v1/tracks/5wQnmLuC1W7A...   \n",
       "...                                                 ...   \n",
       "8335  https://api.spotify.com/v1/tracks/7dWSVDMwoJXM...   \n",
       "8336  https://api.spotify.com/v1/tracks/11jRCxY01k9j...   \n",
       "8337  https://api.spotify.com/v1/tracks/0Zp9bIm1BeIy...   \n",
       "8338  https://api.spotify.com/v1/tracks/6gdDu39yYqPc...   \n",
       "8339  https://api.spotify.com/v1/tracks/5RobAV5ROH5K...   \n",
       "\n",
       "                                           analysis_url duration_ms  \\\n",
       "0     https://api.spotify.com/v1/audio-analysis/3cfO...    200373.0   \n",
       "1     https://api.spotify.com/v1/audio-analysis/00Mb...    204000.0   \n",
       "2     https://api.spotify.com/v1/audio-analysis/4LJh...    148360.0   \n",
       "3     https://api.spotify.com/v1/audio-analysis/4w1l...    237493.0   \n",
       "4     https://api.spotify.com/v1/audio-analysis/5wQn...    311107.0   \n",
       "...                                                 ...         ...   \n",
       "8335  https://api.spotify.com/v1/audio-analysis/7dWS...    180013.0   \n",
       "8336  https://api.spotify.com/v1/audio-analysis/11jR...    290584.0   \n",
       "8337  https://api.spotify.com/v1/audio-analysis/0Zp9...    412702.0   \n",
       "8338  https://api.spotify.com/v1/audio-analysis/6gdD...    267947.0   \n",
       "8339  https://api.spotify.com/v1/audio-analysis/5Rob...    170438.0   \n",
       "\n",
       "     time_signature  cluster  \n",
       "0               4.0        3  \n",
       "1               4.0        2  \n",
       "2               4.0        2  \n",
       "3               4.0        2  \n",
       "4               4.0        2  \n",
       "...             ...      ...  \n",
       "8335            4.0        3  \n",
       "8336            4.0        1  \n",
       "8337            4.0        4  \n",
       "8338            4.0        4  \n",
       "8339            4.0        2  \n",
       "\n",
       "[8339 rows x 22 columns]"
      ]
     },
     "execution_count": 19,
     "metadata": {},
     "output_type": "execute_result"
    }
   ],
   "source": [
    "songs"
   ]
  },
  {
   "cell_type": "markdown",
   "id": "9e3f65fd",
   "metadata": {},
   "source": [
    "I can already see that My Chemical Romance and Vanessa Carlton end up in the same cluster - sure..."
   ]
  },
  {
   "cell_type": "markdown",
   "id": "c81785c5",
   "metadata": {},
   "source": [
    "## Recap for previous lab"
   ]
  },
  {
   "cell_type": "markdown",
   "id": "ae02839d",
   "metadata": {},
   "source": [
    "I need to re-load my 'hot songs' from the previous lab as well, before I can make the recommender work."
   ]
  },
  {
   "cell_type": "code",
   "execution_count": 20,
   "id": "cf4f0aaa",
   "metadata": {},
   "outputs": [],
   "source": [
    "hotsongs = pd.read_csv(\"hotsongs.csv\", sep = \"|\")"
   ]
  },
  {
   "cell_type": "markdown",
   "id": "0f4251b3",
   "metadata": {},
   "source": [
    "And then I separate the dataframe 'songs' into different clusters (so that I can generate a random number corresponding to the index). "
   ]
  },
  {
   "cell_type": "code",
   "execution_count": 21,
   "id": "db042f6b",
   "metadata": {},
   "outputs": [
    {
     "data": {
      "text/plain": [
       "array([3, 2, 0, 1, 4], dtype=int32)"
      ]
     },
     "execution_count": 21,
     "metadata": {},
     "output_type": "execute_result"
    }
   ],
   "source": [
    "songs['cluster'].unique()"
   ]
  },
  {
   "cell_type": "code",
   "execution_count": 27,
   "id": "c285b624",
   "metadata": {},
   "outputs": [],
   "source": [
    "c0 = songs[songs['cluster'] == 0].copy().reset_index(drop = True)\n",
    "c1 = songs[songs['cluster'] == 1].copy().reset_index(drop = True)\n",
    "c2 = songs[songs['cluster'] == 2].copy().reset_index(drop = True)\n",
    "c3 = songs[songs['cluster'] == 3].copy().reset_index(drop = True)\n",
    "c4 = songs[songs['cluster'] == 4].copy().reset_index(drop = True)\n",
    "\n",
    "\n",
    "\n",
    "\n"
   ]
  },
  {
   "cell_type": "markdown",
   "id": "10e54187",
   "metadata": {},
   "source": [
    "# The recommender (take 2)"
   ]
  },
  {
   "cell_type": "code",
   "execution_count": 46,
   "id": "5d225349",
   "metadata": {},
   "outputs": [],
   "source": [
    "# What this function presupposes: \n",
    "# The dataframe 'hotsongs'\n",
    "# The scaler 'scaler'\n",
    "# The kmeans clustering 'kmeans'\n",
    "# Separate dataframes (with re-initialized indexes) for each of the clusters\n",
    "\n",
    "def recommender():\n",
    "    song = input(\"Enter song title: \")\n",
    "    if song in hotsongs['Title'].unique():\n",
    "        number = random.randint(0,len(hotsongs))\n",
    "        \n",
    "        return hotsongs.iloc[number]\n",
    "\n",
    "    else: \n",
    "        # Authenticate connection\n",
    "        secrets = open(\"secrets.txt\", \"r\")\n",
    "        a = secrets.read()\n",
    "        a = a.split(\"\\n\")\n",
    "        cl_id = a[0]\n",
    "        cl_sec = a[1]\n",
    "        sp = spotipy.Spotify(auth_manager=SpotifyClientCredentials(client_id=cl_id,\n",
    "                                                          client_secret=cl_sec))\n",
    "        #Todo: what if the song title does not exist? See what error spotify throws and make an except for that.\n",
    "        \n",
    "        # Search for song and store the data in a frame \n",
    "        results = sp.search(q=song, limit=1)\n",
    "        title = results['tracks']['items'][0]['name']\n",
    "        artist = results['tracks']['items'][0]['artists'][0]['name']\n",
    "        uri = results['tracks']['items'][0]['uri']\n",
    "\n",
    "        songdata = pd.DataFrame(data = {'titles': title, 'artists': artist, 'uri': uri}, index = [0])\n",
    "        \n",
    "        # Get features, and normalize into a dataframe\n",
    "        features = sp.audio_features(uri)\n",
    "        featuresdata = pd.json_normalize(features)\n",
    "        featuresdata_num = featuresdata.select_dtypes(include = np.number)\n",
    "        scaled = scaler.transform(featuresdata_num)\n",
    "        \n",
    "        \n",
    "        # RECOMMENDATION\n",
    "        cluster = kmeans.predict(scaled)[0]\n",
    "\n",
    "        if cluster == 0:\n",
    "            num = random.randint(0,len(c0))\n",
    "            print(f\"You entered {title}, by {artist}.\")\n",
    "            print(\"Our recommendation: \")\n",
    "            print(\"Title:  \", c0['titles'].iloc[num], \"\\nArtist: \", c0['artists'].iloc[num])\n",
    "        elif cluster == 1:\n",
    "            num = random.randint(0,len(c1))\n",
    "            print(f\"You entered {title}, by {artist}.\")\n",
    "            print(\"Our recommendation: \")\n",
    "            print(\"Title:  \", c1['titles'].iloc[num], \"\\nArtist: \", c1['artists'].iloc[num])\n",
    "        elif cluster == 2:\n",
    "            print(f\"You entered '{title}', by {artist}.\")\n",
    "            print(\"Our recommendation: \")\n",
    "            print(\"Title:  \", c2['titles'].iloc[num], \"\\nArtist: \", c2['artists'].iloc[num])\n",
    "        elif cluster == 3:\n",
    "            num = random.randint(0,len(c3))\n",
    "            print(f\"You entered {title}, by {artist}.\")\n",
    "            print(\"Our recommendation: \")\n",
    "            print(\"Title:  \", c3['titles'].iloc[num], \"\\nArtist: \", c3['artists'].iloc[num])\n",
    "        elif cluster == 4: \n",
    "            num = random.randint(0,len(c4))\n",
    "            print(f\"You entered {title}, by {artist}.\")\n",
    "            print(\"Our recommendation: \")\n",
    "            print(\"Title:  \", c4['titles'].iloc[num], \"\\nArtist: \", c4['artists'].iloc[num])\n",
    "        \n",
    "        \n",
    "    return"
   ]
  },
  {
   "cell_type": "code",
   "execution_count": 47,
   "id": "1caa58a9",
   "metadata": {
    "scrolled": true
   },
   "outputs": [
    {
     "name": "stdout",
     "output_type": "stream",
     "text": [
      "Enter song title: out of step\n",
      "You entered Out Of Step, by Minor Threat.\n",
      "Our recommendation: \n",
      "Title:   Straight Outta Compton \n",
      "Artist:  N.W.A.\n"
     ]
    }
   ],
   "source": [
    "recommender()"
   ]
  },
  {
   "cell_type": "code",
   "execution_count": 31,
   "id": "3dbd3e55",
   "metadata": {
    "scrolled": false
   },
   "outputs": [
    {
     "name": "stdout",
     "output_type": "stream",
     "text": [
      "Enter song title: out of step\n",
      "Out Of Step\n",
      "Minor Threat\n",
      "[0]\n"
     ]
    }
   ],
   "source": [
    "testsong = recommender()"
   ]
  },
  {
   "cell_type": "code",
   "execution_count": 38,
   "id": "d4b5d4cf",
   "metadata": {
    "scrolled": true
   },
   "outputs": [
    {
     "name": "stdout",
     "output_type": "stream",
     "text": [
      "Enter song title: how soon is now\n",
      "How Soon Is Now? - 2011 Remaster\n",
      "The Smiths\n",
      "[2]\n"
     ]
    },
    {
     "data": {
      "text/plain": [
       "array([2], dtype=int32)"
      ]
     },
     "execution_count": 38,
     "metadata": {},
     "output_type": "execute_result"
    }
   ],
   "source": [
    "recommender()"
   ]
  },
  {
   "cell_type": "code",
   "execution_count": 33,
   "id": "9ab6dbf6",
   "metadata": {},
   "outputs": [
    {
     "name": "stdout",
     "output_type": "stream",
     "text": [
      "Enter song title: faith\n",
      "Faithfully\n",
      "Journey\n",
      "[2]\n"
     ]
    },
    {
     "data": {
      "text/plain": [
       "array([2], dtype=int32)"
      ]
     },
     "execution_count": 33,
     "metadata": {},
     "output_type": "execute_result"
    }
   ],
   "source": [
    "recommender()"
   ]
  },
  {
   "cell_type": "code",
   "execution_count": 34,
   "id": "4a18db46",
   "metadata": {
    "scrolled": true
   },
   "outputs": [
    {
     "name": "stdout",
     "output_type": "stream",
     "text": [
      "Enter song title: poker face\n",
      "Poker Face\n",
      "Lady Gaga\n",
      "[3]\n"
     ]
    },
    {
     "data": {
      "text/plain": [
       "array([3], dtype=int32)"
      ]
     },
     "execution_count": 34,
     "metadata": {},
     "output_type": "execute_result"
    }
   ],
   "source": [
    "recommender()"
   ]
  },
  {
   "cell_type": "code",
   "execution_count": 37,
   "id": "8f765bbe",
   "metadata": {},
   "outputs": [
    {
     "name": "stdout",
     "output_type": "stream",
     "text": [
      "Enter song title: super freaky girl\n",
      "Super Freaky Girl\n",
      "Nicki Minaj\n",
      "[0]\n"
     ]
    },
    {
     "data": {
      "text/plain": [
       "array([0], dtype=int32)"
      ]
     },
     "execution_count": 37,
     "metadata": {},
     "output_type": "execute_result"
    }
   ],
   "source": [
    "recommender()"
   ]
  },
  {
   "cell_type": "code",
   "execution_count": 42,
   "id": "ac43a38f",
   "metadata": {},
   "outputs": [
    {
     "name": "stdout",
     "output_type": "stream",
     "text": [
      "Enter song title: Super Freaky Girl\n"
     ]
    },
    {
     "data": {
      "text/plain": [
       "Unnamed: 0                           667\n",
       "Title         (I Just) Died in Your Arms\n",
       "Artist                      Cutting Crew\n",
       "Name: 667, dtype: object"
      ]
     },
     "execution_count": 42,
     "metadata": {},
     "output_type": "execute_result"
    }
   ],
   "source": [
    "recommender()"
   ]
  }
 ],
 "metadata": {
  "kernelspec": {
   "display_name": "Python 3 (ipykernel)",
   "language": "python",
   "name": "python3"
  },
  "language_info": {
   "codemirror_mode": {
    "name": "ipython",
    "version": 3
   },
   "file_extension": ".py",
   "mimetype": "text/x-python",
   "name": "python",
   "nbconvert_exporter": "python",
   "pygments_lexer": "ipython3",
   "version": "3.10.6"
  }
 },
 "nbformat": 4,
 "nbformat_minor": 5
}
